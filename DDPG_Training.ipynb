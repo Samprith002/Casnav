{
 "cells": [
  {
   "cell_type": "code",
   "execution_count": 1,
   "id": "ac9344b8-9279-4815-a205-3c44604937f7",
   "metadata": {},
   "outputs": [],
   "source": [
    "import gym\n",
    "import torch\n",
    "import torch.nn as nn\n",
    "import torch.optim as optim\n",
    "import numpy as np\n",
    "import matplotlib.pyplot as plt\n",
    "from collections import deque\n",
    "import os\n",
    "import gym\n",
    "from gym import spaces\n",
    "import numpy as np\n"
   ]
  },
  {
   "cell_type": "code",
   "execution_count": 2,
   "id": "4f9efe3c-b8de-4983-a97b-309a52c7b59e",
   "metadata": {},
   "outputs": [],
   "source": [
    "class CrowdNavigationEnv(gym.Env):\n",
    "    metadata = {'render.modes': ['human']}\n",
    "    \n",
    "    def __init__(self):\n",
    "        super(CrowdNavigationEnv, self).__init__()\n",
    "        self.action_space = spaces.Box(low=-1, high=1, shape=(2,), dtype=np.float32)\n",
    "        self.observation_space = spaces.Box(low=0, high=1, shape=(4,), dtype=np.float32)\n",
    "        self.state = None\n",
    "        self.goal = np.array([0.5, 0.5])\n",
    "        self.reset()\n",
    "        \n",
    "    def reset(self):\n",
    "        self.state = np.random.rand(4)\n",
    "        return self.state\n",
    "    \n",
    "    def step(self, action):\n",
    "        self.state[0] += action[0] * 0.1\n",
    "        self.state[1] += action[1] * 0.1\n",
    "        distance_to_goal = np.linalg.norm(self.state[:2] - self.goal)\n",
    "        reward = -distance_to_goal\n",
    "        done = distance_to_goal < 0.1\n",
    "        return self.state, reward, done, {}\n",
    "    \n",
    "    def render(self, mode='human', close=False):\n",
    "        plt.figure(figsize=(5, 5))\n",
    "        ax = plt.gca()\n",
    "        ax.set_xlim(0, 1)\n",
    "        ax.set_ylim(0, 1)\n",
    "\n",
    "        # Draw goal\n",
    "        goal_circle = plt.Circle(self.goal, 0.03, color='green')\n",
    "        ax.add_patch(goal_circle)\n",
    "\n",
    "        # Draw robot\n",
    "        robot_circle = plt.Circle(self.state[:2], 0.03, color='blue')\n",
    "        ax.add_patch(robot_circle)\n",
    "\n",
    "        # Draw obstacles (assuming self.state[2:] represents obstacles)\n",
    "        obstacle_circle = plt.Circle(self.state[2:], 0.03, color='red')\n",
    "        ax.add_patch(obstacle_circle)\n",
    "\n",
    "        plt.title(\"Crowd Navigation Simulation\")\n",
    "        plt.show()\n",
    "        \n",
    "    def close(self):\n",
    "        pass\n",
    "\n",
    "from gym.envs.registration import register\n",
    "\n",
    "register(\n",
    "    id='CrowdNavigation-v0',\n",
    "    entry_point='__main__:CrowdNavigationEnv',\n",
    ")"
   ]
  },
  {
   "cell_type": "code",
   "execution_count": 3,
   "id": "bb4b69ec-e7f1-4e0d-99fa-07e0db053bfc",
   "metadata": {},
   "outputs": [],
   "source": [
    "env = gym.make('CrowdNavigation-v0')"
   ]
  },
  {
   "cell_type": "code",
   "execution_count": 4,
   "id": "c3344b62-7caa-4bb6-8405-f5d45c01a618",
   "metadata": {},
   "outputs": [],
   "source": [
    "class Actor(nn.Module):\n",
    "    def __init__(self, state_dim, action_dim, max_action):\n",
    "        super(Actor, self).__init__()\n",
    "        self.layer1 = nn.Linear(state_dim, 400)\n",
    "        self.layer2 = nn.Linear(400, 300)\n",
    "        self.layer3 = nn.Linear(300, action_dim)\n",
    "        self.max_action = max_action\n",
    "    \n",
    "    def forward(self, x):\n",
    "        x = torch.relu(self.layer1(x))\n",
    "        x = torch.relu(self.layer2(x))\n",
    "        x = torch.tanh(self.layer3(x)) * self.max_action\n",
    "        return x"
   ]
  },
  {
   "cell_type": "code",
   "execution_count": 5,
   "id": "84f6e6f3-0c42-4b10-9620-84345238d884",
   "metadata": {},
   "outputs": [],
   "source": [
    "class Critic(nn.Module):\n",
    "    def __init__(self, state_dim, action_dim):\n",
    "        super(Critic, self).__init__()\n",
    "        self.layer1 = nn.Linear(state_dim + action_dim, 400)\n",
    "        self.layer2 = nn.Linear(400, 300)\n",
    "        self.layer3 = nn.Linear(300, 1)\n",
    "    \n",
    "    def forward(self, x, u):\n",
    "        x = torch.cat([x, u], 1)\n",
    "        x = torch.relu(self.layer1(x))\n",
    "        x = torch.relu(self.layer2(x))\n",
    "        x = self.layer3(x)\n",
    "        return x"
   ]
  },
  {
   "cell_type": "code",
   "execution_count": 6,
   "id": "fbc6591c-c4e8-414a-b3b2-3d39189d0908",
   "metadata": {},
   "outputs": [],
   "source": [
    "class ReplayBuffer:\n",
    "    def __init__(self, max_size=100000):\n",
    "        self.buffer = deque(maxlen=max_size)\n",
    "\n",
    "    def add(self, transition):\n",
    "        self.buffer.append(transition)\n",
    "\n",
    "    def sample(self, batch_size):\n",
    "        index = np.random.choice(len(self.buffer), batch_size, replace=False)\n",
    "        return [self.buffer[i] for i in index]\n",
    "\n",
    "    def size(self):\n",
    "        return len(self.buffer)"
   ]
  },
  {
   "cell_type": "code",
   "execution_count": 7,
   "id": "f484dde9-30e5-4280-adbb-b974071c3ddb",
   "metadata": {},
   "outputs": [],
   "source": [
    "def ddpg_update(actor, critic, target_actor, target_critic, buffer, batch_size, gamma, tau, actor_optimizer, critic_optimizer):\n",
    "    batch = buffer.sample(batch_size)\n",
    "    state, action, reward, next_state, done = zip(*batch)\n",
    "    \n",
    "    state = torch.FloatTensor(state)\n",
    "    action = torch.FloatTensor(action)\n",
    "    reward = torch.FloatTensor(reward).unsqueeze(1)\n",
    "    next_state = torch.FloatTensor(next_state)\n",
    "    done = torch.FloatTensor(done).unsqueeze(1)\n",
    "    \n",
    "    target_action = target_actor(next_state)\n",
    "    target_q = target_critic(next_state, target_action)\n",
    "    target_value = reward + (1 - done) * gamma * target_q\n",
    "    critic_loss = nn.MSELoss()(critic(state, action), target_value.detach())\n",
    "    \n",
    "    critic_optimizer.zero_grad()\n",
    "    critic_loss.backward()\n",
    "    critic_optimizer.step()\n",
    "    \n",
    "    actor_loss = -critic(state, actor(state)).mean()\n",
    "    \n",
    "    actor_optimizer.zero_grad()\n",
    "    actor_loss.backward()\n",
    "    actor_optimizer.step()\n",
    "    \n",
    "    for target_param, param in zip(target_critic.parameters(), critic.parameters()):\n",
    "        target_param.data.copy_(tau * param.data + (1 - tau) * target_param.data)\n",
    "\n",
    "    for target_param, param in zip(target_actor.parameters(), actor.parameters()):\n",
    "        target_param.data.copy_(tau * param.data + (1 - tau) * target_param.data)\n"
   ]
  },
  {
   "cell_type": "code",
   "execution_count": 8,
   "id": "99f5aef8-79fe-49b1-aefb-d5ea63939a2a",
   "metadata": {},
   "outputs": [],
   "source": [
    "env = gym.make('CrowdNavigation-v0')\n",
    "\n",
    "actor = Actor(state_dim=env.observation_space.shape[0], action_dim=env.action_space.shape[0], max_action=env.action_space.high[0])\n",
    "critic = Critic(state_dim=env.observation_space.shape[0], action_dim=env.action_space.shape[0])\n",
    "target_actor = Actor(state_dim=env.observation_space.shape[0], action_dim=env.action_space.shape[0], max_action=env.action_space.high[0])\n",
    "target_critic = Critic(state_dim=env.observation_space.shape[0], action_dim=env.action_space.shape[0])\n",
    "\n",
    "actor_optimizer = optim.Adam(actor.parameters(), lr=1e-4)\n",
    "critic_optimizer = optim.Adam(critic.parameters(), lr=1e-3)\n",
    "\n",
    "replay_buffer = ReplayBuffer()\n",
    "\n",
    "num_episodes = 2\n",
    "batch_size = 64\n",
    "gamma = 0.99\n",
    "tau = 0.005\n",
    "rewards = []\n"
   ]
  },
  {
   "cell_type": "code",
   "execution_count": 9,
   "id": "79768f69-0c88-4b7d-8e9c-f38c17f5be00",
   "metadata": {},
   "outputs": [],
   "source": [
    "if not os.path.exists('plots'):\n",
    "    os.makedirs('plots')"
   ]
  },
  {
   "cell_type": "code",
   "execution_count": null,
   "id": "1750c867-2ef2-4800-954b-7aaf34242650",
   "metadata": {},
   "outputs": [
    {
     "name": "stdout",
     "output_type": "stream",
     "text": [
      "Episode 0, Reward: -14.3987363821346\n"
     ]
    },
    {
     "name": "stderr",
     "output_type": "stream",
     "text": [
      "/Library/Frameworks/Python.framework/Versions/3.12/lib/python3.12/site-packages/gym/utils/passive_env_checker.py:174: UserWarning: \u001b[33mWARN: Future gym versions will require that `Env.reset` can be passed a `seed` instead of using `Env.seed` for resetting the environment random number generator.\u001b[0m\n",
      "  logger.warn(\n",
      "/Library/Frameworks/Python.framework/Versions/3.12/lib/python3.12/site-packages/gym/utils/passive_env_checker.py:187: UserWarning: \u001b[33mWARN: Future gym versions will require that `Env.reset` can be passed `options` to allow the environment initialisation to be passed additional information.\u001b[0m\n",
      "  logger.warn(\n",
      "/Library/Frameworks/Python.framework/Versions/3.12/lib/python3.12/site-packages/gym/utils/passive_env_checker.py:195: UserWarning: \u001b[33mWARN: The result returned by `env.reset()` was not a tuple of the form `(obs, info)`, where `obs` is a observation and `info` is a dictionary containing additional information. Actual type: `<class 'numpy.ndarray'>`\u001b[0m\n",
      "  logger.warn(\n",
      "/Library/Frameworks/Python.framework/Versions/3.12/lib/python3.12/site-packages/gym/utils/passive_env_checker.py:219: DeprecationWarning: \u001b[33mWARN: Core environment is written in old step API which returns one bool instead of two. It is recommended to rewrite the environment with new step API. \u001b[0m\n",
      "  logger.deprecation(\n",
      "/Library/Frameworks/Python.framework/Versions/3.12/lib/python3.12/site-packages/gym/utils/passive_env_checker.py:225: DeprecationWarning: `np.bool8` is a deprecated alias for `np.bool_`.  (Deprecated NumPy 1.24)\n",
      "  if not isinstance(done, (bool, np.bool8)):\n",
      "/Library/Frameworks/Python.framework/Versions/3.12/lib/python3.12/site-packages/gym/utils/passive_env_checker.py:141: UserWarning: \u001b[33mWARN: The obs returned by the `step()` method was expecting numpy array dtype to be float32, actual type: float64\u001b[0m\n",
      "  logger.warn(\n",
      "/Library/Frameworks/Python.framework/Versions/3.12/lib/python3.12/site-packages/gym/utils/passive_env_checker.py:165: UserWarning: \u001b[33mWARN: The obs returned by the `step()` method is not within the observation space.\u001b[0m\n",
      "  logger.warn(f\"{pre} is not within the observation space.\")\n",
      "/Library/Frameworks/Python.framework/Versions/3.12/lib/python3.12/site-packages/gym/utils/passive_env_checker.py:272: UserWarning: \u001b[33mWARN: No render modes was declared in the environment (env.metadata['render_modes'] is None or not defined), you may have trouble when calling `.render()`.\u001b[0m\n",
      "  logger.warn(\n"
     ]
    },
    {
     "data": {
      "image/png": "[encoded data removed]",
      "text/plain": [
       "<Figure size 500x500 with 1 Axes>"
      ]
     },
     "metadata": {},
     "output_type": "display_data"
    },
    {
     "name": "stderr",
     "output_type": "stream",
     "text": [
      "/var/folders/xz/1jd529mj0dx1g2_x97jly0zm0000gn/T/ipykernel_8418/2911775865.py:5: UserWarning: Creating a tensor from a list of numpy.ndarrays is extremely slow. Please consider converting the list to a single numpy.ndarray with numpy.array() before converting to a tensor. (Triggered internally at /Users/runner/work/pytorch/pytorch/pytorch/torch/csrc/utils/tensor_new.cpp:277.)\n",
      "  state = torch.FloatTensor(state)\n",
      "/var/folders/xz/1jd529mj0dx1g2_x97jly0zm0000gn/T/ipykernel_8418/2911775865.py:9: DeprecationWarning: In future, it will be an error for 'np.bool_' scalars to be interpreted as an index\n",
      "  done = torch.FloatTensor(done).unsqueeze(1)\n"
     ]
    }
   ],
   "source": [
    "for episode in range(num_episodes):\n",
    "    state = env.reset()\n",
    "    episode_reward = 0\n",
    "    \n",
    "    while True:\n",
    "        action = actor(torch.FloatTensor(state).unsqueeze(0)).detach().numpy()[0]\n",
    "        next_state, reward, done, _ = env.step(action)\n",
    "        replay_buffer.add((state, action, reward, next_state, done))\n",
    "        \n",
    "        state = next_state\n",
    "        episode_reward += reward\n",
    "        \n",
    "        if replay_buffer.size() > batch_size:\n",
    "            ddpg_update(actor, critic, target_actor, target_critic, replay_buffer, batch_size, gamma, tau, actor_optimizer, critic_optimizer)\n",
    "        \n",
    "        if done:\n",
    "            break\n",
    "    \n",
    "    rewards.append(episode_reward)\n",
    "    print(f\"Episode {episode}, Reward: {episode_reward}\")\n",
    "\n",
    "    env.render()\n",
    "    \n",
    "    # plt.figure()\n",
    "    # plt.plot(rewards)\n",
    "    # plt.xlabel('Episode')\n",
    "    # plt.ylabel('Reward')\n",
    "    # plt.title('Training Reward Over Episodes')\n",
    "    # plt.savefig(f'plots/rewards_{episode}.png')\n",
    "    # plt.close()"
   ]
  },
  {
   "cell_type": "code",
   "execution_count": null,
   "id": "e35acf59-d28d-445a-83bb-a3171cc07c66",
   "metadata": {},
   "outputs": [],
   "source": []
  },
  {
   "cell_type": "code",
   "execution_count": null,
   "id": "03de30ef-8210-48ee-acd7-0f5d8c83be7c",
   "metadata": {},
   "outputs": [],
   "source": []
  },
  {
   "cell_type": "code",
   "execution_count": null,
   "id": "09542c18-a2f3-4c7d-b44b-a32d73fd2e84",
   "metadata": {},
   "outputs": [],
   "source": []
  }
 ],
 "metadata": {
  "kernelspec": {
   "display_name": "Python 3 (ipykernel)",
   "language": "python",
   "name": "python3"
  },
  "language_info": {
   "codemirror_mode": {
    "name": "ipython",
    "version": 3
   },
   "file_extension": ".py",
   "mimetype": "text/x-python",
   "name": "python",
   "nbconvert_exporter": "python",
   "pygments_lexer": "ipython3",
   "version": "3.12.0"
  }
 },
 "nbformat": 4,
 "nbformat_minor": 5
}
